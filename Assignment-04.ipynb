{
 "cells": [
  {
   "cell_type": "markdown",
   "metadata": {},
   "source": [
    "## Softmax"
   ]
  },
  {
   "cell_type": "code",
   "execution_count": null,
   "metadata": {},
   "outputs": [],
   "source": [
    "import numpy as np"
   ]
  },
  {
   "cell_type": "code",
   "execution_count": 19,
   "metadata": {},
   "outputs": [],
   "source": [
    "vector = np.array([11231, 999, 123142])"
   ]
  },
  {
   "cell_type": "code",
   "execution_count": 28,
   "metadata": {},
   "outputs": [],
   "source": [
    "vector = np.array([-10, 10, 24])"
   ]
  },
  {
   "cell_type": "code",
   "execution_count": 33,
   "metadata": {},
   "outputs": [],
   "source": [
    "def softmax(vec):\n",
    "    vec -= np.max(vec)\n",
    "    exp = np.exp(vec)\n",
    "    return exp / np.sum(exp)"
   ]
  },
  {
   "cell_type": "code",
   "execution_count": 32,
   "metadata": {},
   "outputs": [
    {
     "data": {
      "text/plain": [
       "array([1.71390701e-15, 8.31528028e-07, 9.99999168e-01])"
      ]
     },
     "execution_count": 32,
     "metadata": {},
     "output_type": "execute_result"
    }
   ],
   "source": [
    "softmax(vector)"
   ]
  },
  {
   "cell_type": "markdown",
   "metadata": {},
   "source": [
    "## Assignment-04 基于维基百科的词向量构建"
   ]
  },
  {
   "cell_type": "markdown",
   "metadata": {},
   "source": [
    "在本章，你将使用Gensim和维基百科获得你的第一批词向量，并且感受词向量的基本过程。"
   ]
  },
  {
   "cell_type": "markdown",
   "metadata": {},
   "source": [
    "![](https://www.kaggleusercontent.com/kf/1018109/eyJhbGciOiJkaXIiLCJlbmMiOiJBMTI4Q0JDLUhTMjU2In0..JNNggcCCDcYEypvp7ZDwOA.cM9CuDpuCKo0K_ZkMFLAUvhfip0P6SRZ4LddwgTtgwz8pQy1dZeGVJWi6u81KSpAFNSi7YximVVJbPw8xsFySdWlqoUwvSER-LLIRfmlpsCvtDt90NaLYT2FHlwl0tfF-1MKtiFsWlGQ8LGo40hL3ccBSwMZy214kGJf9bNkW_g.kZbF5sgN5qha3zhjilfSDg/__results___files/__results___9_0.png)"
   ]
  },
  {
   "cell_type": "markdown",
   "metadata": {},
   "source": [
    "## Step-01: Download Wikipedia Chinese Corpus: https://dumps.wikimedia.org/zhwiki/20190720/"
   ]
  },
  {
   "cell_type": "markdown",
   "metadata": {},
   "source": [
    "第一步：使用维基百科下载中文语料库"
   ]
  },
  {
   "cell_type": "markdown",
   "metadata": {},
   "source": [
    "## Step-02: Using https://github.com/attardi/wikiextractor to extract the wikipedia corpus"
   ]
  },
  {
   "cell_type": "markdown",
   "metadata": {},
   "source": [
    "第二步：使用python wikipedia extractor抽取维基百科的内容"
   ]
  },
  {
   "cell_type": "markdown",
   "metadata": {},
   "source": [
    "## Step-03: Using gensim get word vectors: \n",
    "\n",
    "Reference: \n",
    "\n",
    "+ https://radimrehurek.com/gensim/models/word2vec.html\n",
    "+ https://www.kaggle.com/jeffd23/visualizing-word-vectors-with-t-sne"
   ]
  },
  {
   "cell_type": "markdown",
   "metadata": {},
   "source": [
    "第三步：参考Gensim的文档和Kaggle的参考文档，获得词向量。 注意，你要使用Jieba分词把维基百科的内容切分成一个一个单词，然后存进新的文件中。然后，你需要用Gensim的LineSentence这个类进行文件的读取。\n",
    "\n",
    "在训练成词向量Model."
   ]
  },
  {
   "cell_type": "markdown",
   "metadata": {},
   "source": [
    "## Step-04: Using some words to test your preformance. "
   ]
  },
  {
   "cell_type": "markdown",
   "metadata": {},
   "source": [
    "第四步，测试同义词，找几个单词。"
   ]
  },
  {
   "cell_type": "markdown",
   "metadata": {},
   "source": [
    "## Step-05: Using visualization tools: https://www.kaggle.com/jeffd23/visualizing-word-vectors-with-t-sne"
   ]
  },
  {
   "cell_type": "markdown",
   "metadata": {},
   "source": [
    "第五步：使用Kaggle给出的T-SEN进行词向量的可视化。"
   ]
  },
  {
   "cell_type": "code",
   "execution_count": null,
   "metadata": {},
   "outputs": [],
   "source": [
    "# clean.py \n",
    "# 维基百科语料 --> 一个句子一行，再通过jieba分词，保存到sentences.pk\n",
    "from gensim.test.utils import common_texts,get_tmpfile\n",
    "from gensim.models import Phrases,Word2Vec\n",
    "import numpy as np\n",
    "import re\n",
    "import jieba\n",
    "from gensim.models import word2vec\n",
    "import logging\n",
    "from opencc import OpenCC\n",
    "import os\n",
    "\n",
    "cc = OpenCC('t2s') #繁体字转简体字\n",
    "\n",
    "def token(string):\n",
    "    return re.findall('\\w+',string)\n",
    "\n",
    "def cut(string):\n",
    "    return list(jieba.cut(''.join(token(str(string)))))\n",
    "\n",
    "# 将wiki语料库中的所有文件完整路径保存到files中\n",
    "files = []\n",
    "for root,dirs,filename in os.walk(os.getcwd()+'/wiki_articles'):\n",
    "    for f in filename:\n",
    "        if f.startswith('wiki'):\n",
    "            files.append(root+'/'+f)\n",
    "\n",
    "sentence = open('/Users/zhengjiali/Documents/nlp/nlp/lesson04/Sentences_simple.pk','w')\n",
    "for fname in files:\n",
    "    with open(fname) as f:\n",
    "        for line in f:\n",
    "            line = cc.convert(line) #繁体字转简体字\n",
    "            for l in re.split('。|？|！',line):\n",
    "                tmp = cut(l)\n",
    "                if len(tmp)<3:continue\n",
    "                sentence.write(' '.join(tmp)+'\\n')\n",
    "\n",
    "sentence.close()"
   ]
  },
  {
   "cell_type": "code",
   "execution_count": null,
   "metadata": {},
   "outputs": [],
   "source": [
    "# train.py\n",
    "# 训练模型，并保存\n",
    "\n",
    "from gensim.test.utils import get_tmpfile\n",
    "from gensim.models import word2vec,word2vec\n",
    "import logging\n",
    "\n",
    "logging.basicConfig(format='%(asctime)s : %(levelname)s : %(message)s', level=logging.INFO)\n",
    "\n",
    "mymodel_path = get_tmpfile('word2vec.model')\n",
    "mywv_path = get_tmpfile('wordvectors.kv')\n",
    "\n",
    "f = open('/Users/zhengjiali/Documents/nlp/nlp/lesson04/Sentences.pk','r')\n",
    "sentences = word2vec.LineSentence(f)\n",
    "model = Word2Vec(sentences,min_count=1,workers=4)\n",
    "f.close()\n",
    "model.save(mymodel_path)\n",
    "word_vectors = model.wv\n",
    "word_vectors.save(mywv_path)"
   ]
  },
  {
   "cell_type": "code",
   "execution_count": 1,
   "metadata": {},
   "outputs": [],
   "source": [
    "# 在百度ai studio训练好后，下载模型\n",
    "from gensim.models import Word2Vec\n",
    "model = Word2Vec.load('work/word2vec.model')"
   ]
  },
  {
   "cell_type": "code",
   "execution_count": 20,
   "metadata": {},
   "outputs": [
    {
     "data": {
      "text/plain": [
       "[('崇敬', 0.7898735404014587),\n",
       " ('敬拜', 0.7664703726768494),\n",
       " ('尊崇', 0.7493586540222168),\n",
       " ('敬畏', 0.7387300133705139),\n",
       " ('尊敬', 0.7192584276199341),\n",
       " ('信仰', 0.7184967398643494),\n",
       " ('敬奉', 0.7172931432723999),\n",
       " ('敬仰', 0.7163410186767578),\n",
       " ('膜拜', 0.6791212558746338),\n",
       " ('异教', 0.6776829957962036)]"
      ]
     },
     "execution_count": 20,
     "metadata": {},
     "output_type": "execute_result"
    }
   ],
   "source": [
    "model.wv.most_similar('崇拜')"
   ]
  },
  {
   "cell_type": "code",
   "execution_count": 19,
   "metadata": {},
   "outputs": [
    {
     "data": {
      "text/plain": [
       "[('祷告', 0.9239811897277832),\n",
       " ('敬拜', 0.850999116897583),\n",
       " ('诵经', 0.7799026370048523),\n",
       " ('默想', 0.7619050741195679),\n",
       " ('忏悔', 0.7578786015510559),\n",
       " ('礼拜', 0.7530680894851685),\n",
       " ('诵念', 0.7491012811660767),\n",
       " ('念经', 0.7422826290130615),\n",
       " ('讲道', 0.7388753890991211),\n",
       " ('膜拜', 0.7317661643028259)]"
      ]
     },
     "execution_count": 19,
     "metadata": {},
     "output_type": "execute_result"
    }
   ],
   "source": [
    "model.wv.most_similar('祈祷')"
   ]
  },
  {
   "cell_type": "code",
   "execution_count": 17,
   "metadata": {},
   "outputs": [],
   "source": [
    "from sklearn.manifold import TSNE\n",
    "import matplotlib.pyplot as plt\n",
    "import numpy as np\n",
    "%matplotlib inline\n",
    "\n",
    "# 由于数据量太大，全量显示处理起来太慢，所以选择了个别单词来显示\n",
    "wordslist = ['经常','祷告','祈祷','常常','时常','忏悔','膜拜','信仰','崇拜','崇敬','敬拜','异教','敬畏',\n",
    "             '阴险','狡诈','狠毒','心狠手辣', '狡猾', '奸诈', '懦弱', '贪财', '多疑', '狂妄', '凶残',\n",
    "            '妄自菲薄','妄自菲薄','小人','奸诈','无赖','美好','幸福','灿烂','难忘','快乐','麻木不仁',\n",
    "            '自私自利','语言','语法','口语','思考','思索','反思','思维','探究','理性','探讨','想像', \n",
    "             '理解', '解构','思绪','思念','不舍', '悲伤','哀伤','之情','眷恋', '怀念','牵挂','忧伤', \n",
    "             '思乡', '伤心','电脑','计算机','背包','行李箱']\n",
    "def tsne_plot(model):\n",
    "    \"Creates and TSNE model and plots it\"\n",
    "    labels = []\n",
    "    tokens = []\n",
    "\n",
    "    for word in wordslist:\n",
    "        tokens.append(model[word])\n",
    "        labels.append(word)\n",
    "    \n",
    "    tsne_model = TSNE(perplexity=40, n_components=2, init='pca', n_iter=2500, random_state=23)\n",
    "    new_values = tsne_model.fit_transform(tokens)\n",
    "\n",
    "    x = []\n",
    "    y = []\n",
    "    for value in new_values:\n",
    "        x.append(value[0])\n",
    "        y.append(value[1])\n",
    "        \n",
    "    plt.figure(figsize=(16, 16)) \n",
    "    for i in range(len(x)):\n",
    "        plt.scatter(x[i],y[i])\n",
    "        plt.annotate(labels[i],\n",
    "                     xy=(x[i], y[i]),\n",
    "                     xytext=(5, 2),\n",
    "                     textcoords='offset points',\n",
    "                     ha='right',\n",
    "                     va='bottom')\n",
    "    plt.show()\n"
   ]
  },
  {
   "cell_type": "code",
   "execution_count": 18,
   "metadata": {},
   "outputs": [
    {
     "name": "stderr",
     "output_type": "stream",
     "text": [
      "/usr/local/lib/python3.6/site-packages/ipykernel_launcher.py:18: DeprecationWarning: Call to deprecated `__getitem__` (Method will be removed in 4.0.0, use self.wv.__getitem__() instead).\n"
     ]
    },
    {
     "data": {
      "image/png": "[encoded data removed]",
      "text/plain": [
       "<Figure size 1152x1152 with 1 Axes>"
      ]
     },
     "metadata": {
      "needs_background": "light"
     },
     "output_type": "display_data"
    }
   ],
   "source": [
    "tsne_plot(model)"
   ]
  },
  {
   "cell_type": "code",
   "execution_count": null,
   "metadata": {},
   "outputs": [],
   "source": []
  }
 ],
 "metadata": {
  "kernelspec": {
   "display_name": "Python 3",
   "language": "python",
   "name": "python3"
  },
  "language_info": {
   "codemirror_mode": {
    "name": "ipython",
    "version": 3
   },
   "file_extension": ".py",
   "mimetype": "text/x-python",
   "name": "python",
   "nbconvert_exporter": "python",
   "pygments_lexer": "ipython3",
   "version": "3.6.5"
  },
  "toc": {
   "base_numbering": 1,
   "nav_menu": {},
   "number_sections": true,
   "sideBar": true,
   "skip_h1_title": false,
   "title_cell": "Table of Contents",
   "title_sidebar": "Contents",
   "toc_cell": false,
   "toc_position": {},
   "toc_section_display": true,
   "toc_window_display": false
  }
 },
 "nbformat": 4,
 "nbformat_minor": 2
}
