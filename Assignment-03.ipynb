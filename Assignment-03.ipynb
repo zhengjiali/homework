{
 "cells": [
  {
   "cell_type": "markdown",
   "metadata": {},
   "source": [
    "# Lecture-03 Gradient Descent and Dymanic Programming"
   ]
  },
  {
   "cell_type": "markdown",
   "metadata": {},
   "source": [
    "In this week, we need complete following tasks:\n",
    "+ Re-review the course online programming; \n",
    "+ Choose 1 - 2 books which you interested and keep reading; \n",
    "+ Answer the review questions\n",
    "+ Prepare the basic requirement of our 1st project. "
   ]
  },
  {
   "cell_type": "markdown",
   "metadata": {},
   "source": [
    "# Part I Review the online programming. "
   ]
  },
  {
   "cell_type": "markdown",
   "metadata": {},
   "source": [
    "# Part 2: change loss function from $loss = \\frac{1}{n}\\sum{(y_i - \\hat(y_i))^2}$ to $loss = \\frac{1}{n}\\sum{|y_i - \\hat{y_i}|}$, and using your mathmatical knowledge to get the right partial formual. Implement the gradient descent code."
   ]
  },
  {
   "cell_type": "code",
   "execution_count": 18,
   "metadata": {},
   "outputs": [],
   "source": [
    "def loss(y,y_hat):\n",
    "    return sum([abs(y_i-y_hat_i) for y_i,y_hat_i in zip(list(y),list(y_hat))])/len(list(y))\n",
    "\n",
    "# loss([1,2,3],[3,2,1])\n",
    "\n",
    "def partial_k(x,y,y_hat):\n",
    "    n = len(y)\n",
    "    gradient = 0\n",
    "    for x_i,y_i,y_hat_i in zip(list(x),list(y),list(y_hat)):\n",
    "        if y_i>y_hat_i:\n",
    "            gradient += -1*x_i\n",
    "        if y_i < y_hat_i:\n",
    "            gradient += x_i\n",
    "    return 1/n*gradient\n",
    "\n",
    "def partial_b(x,y,y_hat):\n",
    "    n = len(y)\n",
    "    gradient = 0\n",
    "    for x_i,y_i,y_hat_i in zip(list(x),list(y),list(y_hat)):\n",
    "        if y_i>y_hat_i:\n",
    "            gradient += -1\n",
    "        if y_i < y_hat_i:\n",
    "            gradient += 1\n",
    "    return 1/n*gradient\n",
    "            \n",
    "def price(x,k,b):\n",
    "    return k*x+b"
   ]
  },
  {
   "cell_type": "code",
   "execution_count": 4,
   "metadata": {},
   "outputs": [
    {
     "data": {
      "image/png": "[encoded data removed]",
      "text/plain": [
       "<Figure size 432x288 with 1 Axes>"
      ]
     },
     "metadata": {
      "needs_background": "light"
     },
     "output_type": "display_data"
    }
   ],
   "source": [
    "from sklearn.datasets import load_boston\n",
    "data = load_boston()\n",
    "X, y = data['data'], data['target']\n",
    "%matplotlib inline\n",
    "import matplotlib.pyplot as plt\n",
    "def draw_rm_and_price():\n",
    "    plt.scatter(X[:, 5], y)\n",
    "draw_rm_and_price()"
   ]
  },
  {
   "cell_type": "code",
   "execution_count": 20,
   "metadata": {},
   "outputs": [
    {
     "name": "stdout",
     "output_type": "stream",
     "text": [
      "When time is : 0, get best_k: 49.05245534809157 best_b: -85.01776335640325, and the loss is: 200.72617798414012\n",
      "When time is : 50, get best_k: 48.42399190935669 best_b: -85.01776335640325, and the loss is: 196.77651504587323\n",
      "When time is : 100, get best_k: 47.795528470621804 best_b: -85.01776335640325, and the loss is: 192.8268521076071\n",
      "When time is : 150, get best_k: 47.16706503188692 best_b: -85.01776335640325, and the loss is: 188.87718916934028\n",
      "When time is : 200, get best_k: 46.53860159315204 best_b: -85.01776335640325, and the loss is: 184.9275262310736\n",
      "When time is : 250, get best_k: 45.910138154417155 best_b: -85.01776335640325, and the loss is: 180.97786329280706\n",
      "When time is : 300, get best_k: 45.28167471568227 best_b: -85.01776335640325, and the loss is: 177.0282003545405\n",
      "When time is : 350, get best_k: 44.65321127694739 best_b: -85.01776335640325, and the loss is: 173.07853741627372\n",
      "When time is : 400, get best_k: 44.024747838212505 best_b: -85.01776335640325, and the loss is: 169.12887447800733\n",
      "When time is : 450, get best_k: 43.39628439947762 best_b: -85.01776335640325, and the loss is: 165.17921153974055\n",
      "When time is : 500, get best_k: 42.76782096074274 best_b: -85.01776335640325, and the loss is: 161.22954860147416\n",
      "When time is : 550, get best_k: 42.139357522007856 best_b: -85.01776335640325, and the loss is: 157.2798856632075\n",
      "When time is : 600, get best_k: 41.51089408327297 best_b: -85.01776335640325, and the loss is: 153.33022272494085\n",
      "When time is : 650, get best_k: 40.88243064453809 best_b: -85.01776335640325, and the loss is: 149.38055978667433\n",
      "When time is : 700, get best_k: 40.25396720580321 best_b: -85.01776335640325, and the loss is: 145.4308968484078\n",
      "When time is : 750, get best_k: 39.625503767068324 best_b: -85.01776335640325, and the loss is: 141.48123391014104\n",
      "When time is : 800, get best_k: 38.99704032833344 best_b: -85.01776335640325, and the loss is: 137.53157097187452\n",
      "When time is : 850, get best_k: 38.36857688959856 best_b: -85.01776335640325, and the loss is: 133.5819080336078\n",
      "When time is : 900, get best_k: 37.740113450863674 best_b: -85.01776335640325, and the loss is: 129.63224509534137\n",
      "When time is : 950, get best_k: 37.11165001212879 best_b: -85.01776335640325, and the loss is: 125.68258215707475\n",
      "When time is : 1000, get best_k: 36.48318657339391 best_b: -85.01776335640325, and the loss is: 121.73291921880826\n",
      "When time is : 1050, get best_k: 35.854723134659025 best_b: -85.01776335640325, and the loss is: 117.78325628054142\n",
      "When time is : 1100, get best_k: 35.22625969592414 best_b: -85.01776335640325, and the loss is: 113.83359334227492\n",
      "When time is : 1150, get best_k: 34.59779625718926 best_b: -85.01776335640325, and the loss is: 109.88393040400847\n",
      "When time is : 1200, get best_k: 33.969332818454376 best_b: -85.01776335640325, and the loss is: 105.93426746574184\n",
      "When time is : 1250, get best_k: 33.34086937971949 best_b: -85.01776335640325, and the loss is: 101.98460452747523\n",
      "When time is : 1300, get best_k: 32.71240594098461 best_b: -85.01776335640325, and the loss is: 98.03494158920854\n",
      "When time is : 1350, get best_k: 32.08394250224973 best_b: -85.01776335640325, and the loss is: 94.08527865094196\n",
      "When time is : 1400, get best_k: 31.455788715688453 best_b: -85.01776335640325, and the loss is: 90.13955267143643\n",
      "When time is : 1450, get best_k: 30.82873278683466 best_b: -85.01776335640325, and the loss is: 86.20756129232969\n",
      "When time is : 1500, get best_k: 30.201676857980868 best_b: -85.01776335640325, and the loss is: 82.27556991322294\n",
      "When time is : 1550, get best_k: 29.574620929127075 best_b: -85.01776335640325, and the loss is: 78.34357853411629\n",
      "When time is : 1600, get best_k: 28.947565000273283 best_b: -85.01776335640325, and the loss is: 74.41158715500963\n",
      "When time is : 1650, get best_k: 28.32050907141949 best_b: -85.01776335640325, and the loss is: 70.47959577590296\n",
      "When time is : 1700, get best_k: 27.694155506202048 best_b: -85.01776335640325, and the loss is: 66.55649572675817\n",
      "When time is : 1750, get best_k: 27.068901474581434 best_b: -85.01776335640325, and the loss is: 62.6472683868622\n",
      "When time is : 1800, get best_k: 26.44533685007549 best_b: -85.01776335640325, and the loss is: 58.75893997750993\n",
      "When time is : 1850, get best_k: 25.821772225569543 best_b: -85.01776335640325, and the loss is: 54.870611568157564\n",
      "When time is : 1900, get best_k: 25.198207601063597 best_b: -85.01776335640325, and the loss is: 50.98228315880525\n",
      "When time is : 1950, get best_k: 24.57464297655765 best_b: -85.01776335640325, and the loss is: 47.093954749453005\n"
     ]
    }
   ],
   "source": [
    "import random\n",
    "trying_times = 2000\n",
    "learning_rate = 0.001\n",
    "X_rm = X[:,5]\n",
    "min_loss = float('inf')\n",
    "current_k = random.random()*200-100\n",
    "current_b = random.random()*200-100\n",
    "for i in range(trying_times):\n",
    "    y_hat = [price(x_i,current_k,current_b) for x_i in X_rm]\n",
    "    current_loss = loss(y,y_hat)\n",
    "    k_gradient = partial_k(X_rm,y,y_hat)\n",
    "    b_gradient = partial_b(X_rm,y,y_hat)\n",
    "    \n",
    "    if current_loss < min_loss:\n",
    "        min_loss = current_loss\n",
    "        if i % 50 == 0: \n",
    "            print('When time is : {}, get best_k: {} best_b: {}, and the loss is: {}'.format(i, current_k, current_b, min_loss))\n",
    "            \n",
    "    current_k = current_k + (-1 * k_gradient) * learning_rate\n",
    "    current_k = current_k + (-1 * k_gradient) * learning_rate\n",
    "    "
   ]
  },
  {
   "cell_type": "code",
   "execution_count": 21,
   "metadata": {
    "scrolled": true
   },
   "outputs": [
    {
     "data": {
      "text/plain": [
       "<matplotlib.collections.PathCollection at 0x11e45aa20>"
      ]
     },
     "execution_count": 21,
     "metadata": {},
     "output_type": "execute_result"
    },
    {
     "data": {
      "image/png": "[encoded data removed]",
      "text/plain": [
       "<Figure size 432x288 with 1 Axes>"
      ]
     },
     "metadata": {
      "needs_background": "light"
     },
     "output_type": "display_data"
    }
   ],
   "source": [
    "k = 24.57464297655765\n",
    "b = -85.01776335640325\n",
    "price_by_k_and_b = [price(r, k, b) for r in X_rm]\n",
    "draw_rm_and_price()\n",
    "plt.scatter(X_rm,price_by_random_k_and_b)"
   ]
  },
  {
   "cell_type": "markdown",
   "metadata": {},
   "source": [
    "# Part 3: Finish the Solution Parse Part of Edit-Distance"
   ]
  },
  {
   "cell_type": "code",
   "execution_count": 5,
   "metadata": {},
   "outputs": [],
   "source": [
    "from functools import lru_cache\n",
    "solution = {}\n",
    "@lru_cache(maxsize=2**10)\n",
    "def edit_distance(string1, string2):\n",
    "    \n",
    "    if len(string1) == 0: return len(string2)\n",
    "    if len(string2) == 0: return len(string1)\n",
    "    \n",
    "    tail_s1 = string1[-1]\n",
    "    tail_s2 = string2[-1]\n",
    "    \n",
    "    candidates = [\n",
    "        (edit_distance(string1[:-1], string2) + 1, 'DEL {}'.format(tail_s1)),  # string 1 delete tail\n",
    "        (edit_distance(string1, string2[:-1]) + 1, 'ADD {}'.format(tail_s2)),  # string 1 add tail of string2\n",
    "    ]\n",
    "    \n",
    "    if tail_s1 == tail_s2:\n",
    "        both_forward = (edit_distance(string1[:-1], string2[:-1]) + 0, '')\n",
    "    else:\n",
    "        both_forward = (edit_distance(string1[:-1], string2[:-1]) + 1, 'SUB {} => {}'.format(tail_s1, tail_s2))\n",
    "\n",
    "    candidates.append(both_forward)\n",
    "    \n",
    "    min_distance, operation = min(candidates, key=lambda x: x[0])\n",
    "    \n",
    "    solution[(string1, string2)] = operation\n",
    "    return min_distance"
   ]
  },
  {
   "cell_type": "code",
   "execution_count": 6,
   "metadata": {},
   "outputs": [
    {
     "data": {
      "text/plain": [
       "2"
      ]
     },
     "execution_count": 6,
     "metadata": {},
     "output_type": "execute_result"
    }
   ],
   "source": [
    "# edit_distance('biejing','beijing')\n",
    "edit_distance('ABCDE', 'ABCCEF')"
   ]
  },
  {
   "cell_type": "code",
   "execution_count": 9,
   "metadata": {},
   "outputs": [],
   "source": [
    "def op(s1,s2,operation):\n",
    "    if operation == 'DEL':\n",
    "        return (s1[:-1],s2,\"DEL string1's last word:{},{}->{},{}\".format(s1,s2,s1[:-1],s2))\n",
    "    if operation == 'ADD':\n",
    "        return (s1,s2[:-1],\"DEL string2's last word:{},{}->{},{}\".format(s1,s2,s1,s2[:-1]))\n",
    "    else:\n",
    "        return (s1[:-1],s2[:-1],\"DEL string1 and string2's last word:{},{}->{},{}\".format(s1,s2,s1[:-1],s2[:-1]))\n",
    "def parse_solution(s1,s2,solution):\n",
    "    steps = []\n",
    "    while s1 or s2:\n",
    "        result = solution[(s1,s2)]\n",
    "        if result == '':operation = ''\n",
    "        else:operation = result.split()[0]\n",
    "        s1,s2,message = op(s1,s2,operation)\n",
    "        steps.append(message)\n",
    "    return steps"
   ]
  },
  {
   "cell_type": "code",
   "execution_count": 10,
   "metadata": {
    "scrolled": true
   },
   "outputs": [
    {
     "data": {
      "text/plain": [
       "[\"DEL string2's last word:ABCDE,ABCCEF->ABCDE,ABCCE\",\n",
       " \"DEL string1 and string2's last word:ABCDE,ABCCE->ABCD,ABCC\",\n",
       " \"DEL string1 and string2's last word:ABCD,ABCC->ABC,ABC\",\n",
       " \"DEL string1 and string2's last word:ABC,ABC->AB,AB\",\n",
       " \"DEL string1 and string2's last word:AB,AB->A,A\",\n",
       " \"DEL string1 and string2's last word:A,A->,\"]"
      ]
     },
     "execution_count": 10,
     "metadata": {},
     "output_type": "execute_result"
    }
   ],
   "source": [
    "# parse_solution('biejing','beijing',solution)\n",
    "parse_solution('ABCDE', 'ABCCEF',solution)"
   ]
  },
  {
   "cell_type": "markdown",
   "metadata": {},
   "source": [
    "# Part 4 Choose 1 - 2 books to keep reading: \n",
    "\n",
    "+ SICP, Structure and Interpretation of Computer Programming. \n",
    "+ Introduction to Algorithms \n",
    "+ Artificial Intelligence A Modern Approach (3rd Edition) \n",
    "+ Code Complete 2 \n",
    "+ Programming Pearls \n",
    "+ Deep Learning\n",
    "+ 黑客与画家\n",
    "+ 数学之美\n",
    "+ Fluent Python\n",
    "+ Hands on Tensorflow\n",
    "+ Conference: NIPS_ ICML_ ICLR_ ACL_ AAAI\n",
    "\n",
    "> most books you may find in our github: https://github.com/Computing-Intelligence/References"
   ]
  },
  {
   "cell_type": "markdown",
   "metadata": {},
   "source": [
    "# Part 5-1: review machine learning"
   ]
  },
  {
   "cell_type": "markdown",
   "metadata": {},
   "source": [
    "1. Why do we use Derivative / gradient to fit a target function?¶"
   ]
  },
  {
   "cell_type": "markdown",
   "metadata": {},
   "source": [
    "Ans:可以更快地找到极值点"
   ]
  },
  {
   "cell_type": "markdown",
   "metadata": {},
   "source": [
    "2. In the words 'Gredient Descent', what's the Gredient and what's the Descent?¶"
   ]
  },
  {
   "cell_type": "markdown",
   "metadata": {},
   "source": [
    "Ans:梯度指损失函数梯度，对每一个权重求偏导；下降指梯度的反方向，使得损失函数的值最快减小"
   ]
  },
  {
   "cell_type": "markdown",
   "metadata": {},
   "source": [
    "\n",
    "3. What's the advantages of the 3rd gradient descent method compared to the previous methods?"
   ]
  },
  {
   "cell_type": "markdown",
   "metadata": {},
   "source": [
    "Ans:损失函数的值减小的最快"
   ]
  },
  {
   "cell_type": "markdown",
   "metadata": {},
   "source": [
    "4. Using the simple words to describe: What's the machine leanring.¶"
   ]
  },
  {
   "cell_type": "markdown",
   "metadata": {},
   "source": [
    "Ans:根据给定的数据，让计算机计算出其中的规律。"
   ]
  },
  {
   "cell_type": "markdown",
   "metadata": {},
   "source": [
    "# Part 5: Answer following questions: "
   ]
  },
  {
   "cell_type": "markdown",
   "metadata": {},
   "source": [
    "1. Why do we need dynamic programming? What's the difference of dynamic programming and previous talked `search` problme? "
   ]
  },
  {
   "cell_type": "markdown",
   "metadata": {},
   "source": [
    "2. Why do we still need dynamic programming? Why not we train a machine learning to fit a function which could get the `right` answer based on inputs?"
   ]
  },
  {
   "cell_type": "markdown",
   "metadata": {},
   "source": [
    "3. Can you catch up at least 3 problems which could solved by Dynamic Programming? "
   ]
  },
  {
   "cell_type": "markdown",
   "metadata": {},
   "source": [
    "Ans:最短路径、投资分配、背包问题"
   ]
  },
  {
   "cell_type": "markdown",
   "metadata": {},
   "source": [
    "4. Can you catch up at least 3 problems wich could sloved by Edit Distance? "
   ]
  },
  {
   "cell_type": "markdown",
   "metadata": {},
   "source": [
    "Ans:\n",
    "单词纠错"
   ]
  },
  {
   "cell_type": "markdown",
   "metadata": {},
   "source": [
    "5. Please summarize the three main features of Dynamic Programming, and make a concise explain for each feature. "
   ]
  },
  {
   "cell_type": "markdown",
   "metadata": {},
   "source": [
    "Ans:\n",
    "1. 将问题分解为子问题，用递归来实现子问题\n",
    "2. 用表来保存已经求结果的子问题的解\n",
    "3. 最优解可以通过保存的表来计算出"
   ]
  },
  {
   "cell_type": "markdown",
   "metadata": {},
   "source": [
    "6. What's the disadvantages of Dynamic Programming? (You may need search by yourself in Internet)"
   ]
  },
  {
   "cell_type": "markdown",
   "metadata": {},
   "source": [
    "# Part 6 Preparation of Project-01"
   ]
  },
  {
   "cell_type": "markdown",
   "metadata": {},
   "source": [
    "1. Using python Flask or Bottle to finish your first simple web app:\n",
    "> https://bottlepy.org/\n",
    "\n",
    "2. Learn what's the SQL, and try some simple SQL operations:\n",
    "> https://www.w3schools.com/sql/sql_intro.asp\n",
    "\n",
    "3. Learn what's the HTML ( *ONLY* need to know the basic things)\n",
    "> https://getbootstrap.com/; https://www.w3schools.com/html/"
   ]
  },
  {
   "cell_type": "markdown",
   "metadata": {},
   "source": [
    "# (Optinal) Finish the k-person-salesman problem:"
   ]
  },
  {
   "cell_type": "code",
   "execution_count": 7,
   "metadata": {},
   "outputs": [],
   "source": [
    "import random\n",
    "import matplotlib.pylab as plt"
   ]
  },
  {
   "cell_type": "code",
   "execution_count": 8,
   "metadata": {},
   "outputs": [],
   "source": [
    "latitudes = [random.randint(-100, 100) for _ in range(20)]\n",
    "longitude = [random.randint(-100, 100) for _ in range(20)]"
   ]
  },
  {
   "cell_type": "code",
   "execution_count": 9,
   "metadata": {},
   "outputs": [
    {
     "data": {
      "text/plain": [
       "<matplotlib.collections.PathCollection at 0x11da1c588>"
      ]
     },
     "execution_count": 9,
     "metadata": {},
     "output_type": "execute_result"
    },
    {
     "data": {
      "image/png": "[encoded data removed]",
      "text/plain": [
       "<Figure size 432x288 with 1 Axes>"
      ]
     },
     "metadata": {
      "needs_background": "light"
     },
     "output_type": "display_data"
    }
   ],
   "source": [
    "plt.scatter(latitudes, longitude)"
   ]
  },
  {
   "cell_type": "markdown",
   "metadata": {},
   "source": [
    "给定一个初始点 𝑃, 已经 𝑘个车辆，如何从该点出发，经这 k 个车辆经过所以的点全部一次，而且所走过的路程最短?\n",
    "\n",
    "例如："
   ]
  },
  {
   "cell_type": "code",
   "execution_count": 14,
   "metadata": {},
   "outputs": [],
   "source": [
    "chosen_p = (-50, 10)\n",
    "chosen_p2 = (1, 30)\n",
    "chosen_p3 = (99, 15)"
   ]
  },
  {
   "cell_type": "code",
   "execution_count": 4,
   "metadata": {},
   "outputs": [],
   "source": [
    "import matplotlib.pyplot as plt"
   ]
  },
  {
   "cell_type": "code",
   "execution_count": 15,
   "metadata": {
    "scrolled": true
   },
   "outputs": [
    {
     "data": {
      "text/plain": [
       "<matplotlib.collections.PathCollection at 0x11dbbd470>"
      ]
     },
     "execution_count": 15,
     "metadata": {},
     "output_type": "execute_result"
    },
    {
     "data": {
      "image/png": "[encoded data removed]",
      "text/plain": [
       "<Figure size 432x288 with 1 Axes>"
      ]
     },
     "metadata": {
      "needs_background": "light"
     },
     "output_type": "display_data"
    }
   ],
   "source": [
    "plt.scatter(latitudes, longitude)\n",
    "plt.scatter([chosen_p[0]], [chosen_p[1]], color='r')\n",
    "plt.scatter([chosen_p2[0]], [chosen_p2[1]], color='r')\n",
    "plt.scatter([chosen_p3[0]], [chosen_p3[1]], color='r')"
   ]
  },
  {
   "cell_type": "markdown",
   "metadata": {},
   "source": [
    "shuro"
   ]
  }
 ],
 "metadata": {
  "kernelspec": {
   "display_name": "Python 3",
   "language": "python",
   "name": "python3"
  },
  "language_info": {
   "codemirror_mode": {
    "name": "ipython",
    "version": 3
   },
   "file_extension": ".py",
   "mimetype": "text/x-python",
   "name": "python",
   "nbconvert_exporter": "python",
   "pygments_lexer": "ipython3",
   "version": "3.6.5"
  },
  "toc": {
   "base_numbering": 1,
   "nav_menu": {},
   "number_sections": true,
   "sideBar": true,
   "skip_h1_title": false,
   "title_cell": "Table of Contents",
   "title_sidebar": "Contents",
   "toc_cell": false,
   "toc_position": {},
   "toc_section_display": true,
   "toc_window_display": true
  }
 },
 "nbformat": 4,
 "nbformat_minor": 2
}
